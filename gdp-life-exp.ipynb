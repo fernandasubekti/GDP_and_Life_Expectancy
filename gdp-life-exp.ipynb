{
 "cells": [
  {
   "cell_type": "code",
   "execution_count": 1,
   "id": "87d8051c",
   "metadata": {
    "_cell_guid": "b1076dfc-b9ad-4769-8c92-a6c4dae69d19",
    "_uuid": "8f2839f25d086af736a60e9eeb907d3b93b6e0e5",
    "execution": {
     "iopub.execute_input": "2023-11-30T04:36:26.749369Z",
     "iopub.status.busy": "2023-11-30T04:36:26.748613Z",
     "iopub.status.idle": "2023-11-30T04:36:27.229411Z",
     "shell.execute_reply": "2023-11-30T04:36:27.227756Z"
    },
    "papermill": {
     "duration": 0.493679,
     "end_time": "2023-11-30T04:36:27.232562",
     "exception": false,
     "start_time": "2023-11-30T04:36:26.738883",
     "status": "completed"
    },
    "tags": []
   },
   "outputs": [
    {
     "name": "stdout",
     "output_type": "stream",
     "text": [
      "/kaggle/input/gapminder-datacamp-2007/gapminder_full.csv\n",
      "/kaggle/input/gapminder-datacamp-2007/gapminder - gapminder.csv\n"
     ]
    }
   ],
   "source": [
    "# This Python 3 environment comes with many helpful analytics libraries installed\n",
    "# It is defined by the kaggle/python Docker image: https://github.com/kaggle/docker-python\n",
    "# For example, here's several helpful packages to load\n",
    "\n",
    "import numpy as np # linear algebra\n",
    "import pandas as pd # data processing, CSV file I/O (e.g. pd.read_csv)\n",
    "import matplotlib.pyplot as plt\n",
    "\n",
    "# Input data files are available in the read-only \"../input/\" directory\n",
    "# For example, running this (by clicking run or pressing Shift+Enter) will list all files under the input directory\n",
    "\n",
    "import os\n",
    "for dirname, _, filenames in os.walk('/kaggle/input'):\n",
    "    for filename in filenames:\n",
    "        print(os.path.join(dirname, filename))\n",
    "\n",
    "# You can write up to 20GB to the current directory (/kaggle/working/) that gets preserved as output when you create a version using \"Save & Run All\" \n",
    "# You can also write temporary files to /kaggle/temp/, but they won't be saved outside of the current session"
   ]
  },
  {
   "cell_type": "markdown",
   "id": "af4b7eab",
   "metadata": {
    "papermill": {
     "duration": 0.004311,
     "end_time": "2023-11-30T04:36:27.244214",
     "exception": false,
     "start_time": "2023-11-30T04:36:27.239903",
     "status": "completed"
    },
    "tags": []
   },
   "source": [
    "# GDP per Capita vs Life Expectancy in 2007"
   ]
  },
  {
   "cell_type": "code",
   "execution_count": 2,
   "id": "794d388a",
   "metadata": {
    "execution": {
     "iopub.execute_input": "2023-11-30T04:36:27.255631Z",
     "iopub.status.busy": "2023-11-30T04:36:27.255075Z",
     "iopub.status.idle": "2023-11-30T04:36:27.309740Z",
     "shell.execute_reply": "2023-11-30T04:36:27.308352Z"
    },
    "papermill": {
     "duration": 0.066176,
     "end_time": "2023-11-30T04:36:27.314972",
     "exception": false,
     "start_time": "2023-11-30T04:36:27.248796",
     "status": "completed"
    },
    "tags": []
   },
   "outputs": [
    {
     "data": {
      "text/html": [
       "<div>\n",
       "<style scoped>\n",
       "    .dataframe tbody tr th:only-of-type {\n",
       "        vertical-align: middle;\n",
       "    }\n",
       "\n",
       "    .dataframe tbody tr th {\n",
       "        vertical-align: top;\n",
       "    }\n",
       "\n",
       "    .dataframe thead th {\n",
       "        text-align: right;\n",
       "    }\n",
       "</style>\n",
       "<table border=\"1\" class=\"dataframe\">\n",
       "  <thead>\n",
       "    <tr style=\"text-align: right;\">\n",
       "      <th></th>\n",
       "      <th>country</th>\n",
       "      <th>year</th>\n",
       "      <th>population</th>\n",
       "      <th>continent</th>\n",
       "      <th>life_exp</th>\n",
       "      <th>gdp_cap</th>\n",
       "    </tr>\n",
       "  </thead>\n",
       "  <tbody>\n",
       "    <tr>\n",
       "      <th>0</th>\n",
       "      <td>Afghanistan</td>\n",
       "      <td>1952</td>\n",
       "      <td>8425333</td>\n",
       "      <td>Asia</td>\n",
       "      <td>28.801</td>\n",
       "      <td>779.445314</td>\n",
       "    </tr>\n",
       "    <tr>\n",
       "      <th>1</th>\n",
       "      <td>Afghanistan</td>\n",
       "      <td>1957</td>\n",
       "      <td>9240934</td>\n",
       "      <td>Asia</td>\n",
       "      <td>30.332</td>\n",
       "      <td>820.853030</td>\n",
       "    </tr>\n",
       "    <tr>\n",
       "      <th>2</th>\n",
       "      <td>Afghanistan</td>\n",
       "      <td>1962</td>\n",
       "      <td>10267083</td>\n",
       "      <td>Asia</td>\n",
       "      <td>31.997</td>\n",
       "      <td>853.100710</td>\n",
       "    </tr>\n",
       "    <tr>\n",
       "      <th>3</th>\n",
       "      <td>Afghanistan</td>\n",
       "      <td>1967</td>\n",
       "      <td>11537966</td>\n",
       "      <td>Asia</td>\n",
       "      <td>34.020</td>\n",
       "      <td>836.197138</td>\n",
       "    </tr>\n",
       "    <tr>\n",
       "      <th>4</th>\n",
       "      <td>Afghanistan</td>\n",
       "      <td>1972</td>\n",
       "      <td>13079460</td>\n",
       "      <td>Asia</td>\n",
       "      <td>36.088</td>\n",
       "      <td>739.981106</td>\n",
       "    </tr>\n",
       "  </tbody>\n",
       "</table>\n",
       "</div>"
      ],
      "text/plain": [
       "       country  year  population continent  life_exp     gdp_cap\n",
       "0  Afghanistan  1952     8425333      Asia    28.801  779.445314\n",
       "1  Afghanistan  1957     9240934      Asia    30.332  820.853030\n",
       "2  Afghanistan  1962    10267083      Asia    31.997  853.100710\n",
       "3  Afghanistan  1967    11537966      Asia    34.020  836.197138\n",
       "4  Afghanistan  1972    13079460      Asia    36.088  739.981106"
      ]
     },
     "execution_count": 2,
     "metadata": {},
     "output_type": "execute_result"
    }
   ],
   "source": [
    "# reading the file\n",
    "gapminder = pd.read_csv(\"/kaggle/input/gapminder-datacamp-2007/gapminder_full.csv\")\n",
    "\n",
    "gapminder.head()"
   ]
  },
  {
   "cell_type": "code",
   "execution_count": 3,
   "id": "b156e10b",
   "metadata": {
    "execution": {
     "iopub.execute_input": "2023-11-30T04:36:27.330754Z",
     "iopub.status.busy": "2023-11-30T04:36:27.330357Z",
     "iopub.status.idle": "2023-11-30T04:36:27.351118Z",
     "shell.execute_reply": "2023-11-30T04:36:27.349875Z"
    },
    "papermill": {
     "duration": 0.032186,
     "end_time": "2023-11-30T04:36:27.354893",
     "exception": false,
     "start_time": "2023-11-30T04:36:27.322707",
     "status": "completed"
    },
    "tags": []
   },
   "outputs": [
    {
     "data": {
      "text/html": [
       "<div>\n",
       "<style scoped>\n",
       "    .dataframe tbody tr th:only-of-type {\n",
       "        vertical-align: middle;\n",
       "    }\n",
       "\n",
       "    .dataframe tbody tr th {\n",
       "        vertical-align: top;\n",
       "    }\n",
       "\n",
       "    .dataframe thead th {\n",
       "        text-align: right;\n",
       "    }\n",
       "</style>\n",
       "<table border=\"1\" class=\"dataframe\">\n",
       "  <thead>\n",
       "    <tr style=\"text-align: right;\">\n",
       "      <th></th>\n",
       "      <th>country</th>\n",
       "      <th>year</th>\n",
       "      <th>population</th>\n",
       "      <th>continent</th>\n",
       "      <th>life_exp</th>\n",
       "      <th>gdp_cap</th>\n",
       "    </tr>\n",
       "  </thead>\n",
       "  <tbody>\n",
       "    <tr>\n",
       "      <th>11</th>\n",
       "      <td>Afghanistan</td>\n",
       "      <td>2007</td>\n",
       "      <td>31889923</td>\n",
       "      <td>Asia</td>\n",
       "      <td>43.828</td>\n",
       "      <td>974.580338</td>\n",
       "    </tr>\n",
       "    <tr>\n",
       "      <th>23</th>\n",
       "      <td>Albania</td>\n",
       "      <td>2007</td>\n",
       "      <td>3600523</td>\n",
       "      <td>Europe</td>\n",
       "      <td>76.423</td>\n",
       "      <td>5937.029526</td>\n",
       "    </tr>\n",
       "    <tr>\n",
       "      <th>35</th>\n",
       "      <td>Algeria</td>\n",
       "      <td>2007</td>\n",
       "      <td>33333216</td>\n",
       "      <td>Africa</td>\n",
       "      <td>72.301</td>\n",
       "      <td>6223.367465</td>\n",
       "    </tr>\n",
       "    <tr>\n",
       "      <th>47</th>\n",
       "      <td>Angola</td>\n",
       "      <td>2007</td>\n",
       "      <td>12420476</td>\n",
       "      <td>Africa</td>\n",
       "      <td>42.731</td>\n",
       "      <td>4797.231267</td>\n",
       "    </tr>\n",
       "    <tr>\n",
       "      <th>59</th>\n",
       "      <td>Argentina</td>\n",
       "      <td>2007</td>\n",
       "      <td>40301927</td>\n",
       "      <td>Americas</td>\n",
       "      <td>75.320</td>\n",
       "      <td>12779.379640</td>\n",
       "    </tr>\n",
       "  </tbody>\n",
       "</table>\n",
       "</div>"
      ],
      "text/plain": [
       "        country  year  population continent  life_exp       gdp_cap\n",
       "11  Afghanistan  2007    31889923      Asia    43.828    974.580338\n",
       "23      Albania  2007     3600523    Europe    76.423   5937.029526\n",
       "35      Algeria  2007    33333216    Africa    72.301   6223.367465\n",
       "47       Angola  2007    12420476    Africa    42.731   4797.231267\n",
       "59    Argentina  2007    40301927  Americas    75.320  12779.379640"
      ]
     },
     "execution_count": 3,
     "metadata": {},
     "output_type": "execute_result"
    }
   ],
   "source": [
    "# select only data 2007\n",
    "gapminder = gapminder[gapminder[\"year\"] == 2007]\n",
    "\n",
    "gapminder.head()"
   ]
  },
  {
   "cell_type": "code",
   "execution_count": 4,
   "id": "b798f3ed",
   "metadata": {
    "execution": {
     "iopub.execute_input": "2023-11-30T04:36:27.372598Z",
     "iopub.status.busy": "2023-11-30T04:36:27.371882Z",
     "iopub.status.idle": "2023-11-30T04:36:27.382627Z",
     "shell.execute_reply": "2023-11-30T04:36:27.381639Z"
    },
    "papermill": {
     "duration": 0.023807,
     "end_time": "2023-11-30T04:36:27.386329",
     "exception": false,
     "start_time": "2023-11-30T04:36:27.362522",
     "status": "completed"
    },
    "tags": []
   },
   "outputs": [],
   "source": [
    "gapminder.to_csv(\"gapminder_2007.csv\")"
   ]
  },
  {
   "cell_type": "markdown",
   "id": "40573ad4",
   "metadata": {
    "papermill": {
     "duration": 0.007239,
     "end_time": "2023-11-30T04:36:27.401342",
     "exception": false,
     "start_time": "2023-11-30T04:36:27.394103",
     "status": "completed"
    },
    "tags": []
   },
   "source": [
    "### Formulate the problem\n",
    "Does GDP per capita countries have a positive correlation with life expectancy?"
   ]
  },
  {
   "cell_type": "code",
   "execution_count": 5,
   "id": "ffd23431",
   "metadata": {
    "execution": {
     "iopub.execute_input": "2023-11-30T04:36:27.415995Z",
     "iopub.status.busy": "2023-11-30T04:36:27.415172Z",
     "iopub.status.idle": "2023-11-30T04:36:27.422300Z",
     "shell.execute_reply": "2023-11-30T04:36:27.420896Z"
    },
    "papermill": {
     "duration": 0.016956,
     "end_time": "2023-11-30T04:36:27.424674",
     "exception": false,
     "start_time": "2023-11-30T04:36:27.407718",
     "status": "completed"
    },
    "tags": []
   },
   "outputs": [
    {
     "name": "stdout",
     "output_type": "stream",
     "text": [
      "['Africa' 'Americas' 'Asia' 'Europe' 'Oceania']\n"
     ]
    }
   ],
   "source": [
    "# view unique continent\n",
    "print(np.unique(gapminder.iloc[:, 3]))"
   ]
  },
  {
   "cell_type": "code",
   "execution_count": 6,
   "id": "e26b42c0",
   "metadata": {
    "execution": {
     "iopub.execute_input": "2023-11-30T04:36:27.437841Z",
     "iopub.status.busy": "2023-11-30T04:36:27.437025Z",
     "iopub.status.idle": "2023-11-30T04:36:27.459316Z",
     "shell.execute_reply": "2023-11-30T04:36:27.458199Z"
    },
    "papermill": {
     "duration": 0.031887,
     "end_time": "2023-11-30T04:36:27.461897",
     "exception": false,
     "start_time": "2023-11-30T04:36:27.430010",
     "status": "completed"
    },
    "tags": []
   },
   "outputs": [
    {
     "data": {
      "text/html": [
       "<div>\n",
       "<style scoped>\n",
       "    .dataframe tbody tr th:only-of-type {\n",
       "        vertical-align: middle;\n",
       "    }\n",
       "\n",
       "    .dataframe tbody tr th {\n",
       "        vertical-align: top;\n",
       "    }\n",
       "\n",
       "    .dataframe thead th {\n",
       "        text-align: right;\n",
       "    }\n",
       "</style>\n",
       "<table border=\"1\" class=\"dataframe\">\n",
       "  <thead>\n",
       "    <tr style=\"text-align: right;\">\n",
       "      <th></th>\n",
       "      <th>country</th>\n",
       "      <th>year</th>\n",
       "      <th>population</th>\n",
       "      <th>continent</th>\n",
       "      <th>life_exp</th>\n",
       "      <th>gdp_cap</th>\n",
       "      <th>color</th>\n",
       "    </tr>\n",
       "  </thead>\n",
       "  <tbody>\n",
       "    <tr>\n",
       "      <th>11</th>\n",
       "      <td>Afghanistan</td>\n",
       "      <td>2007</td>\n",
       "      <td>31889923</td>\n",
       "      <td>Asia</td>\n",
       "      <td>43.828</td>\n",
       "      <td>974.580338</td>\n",
       "      <td>red</td>\n",
       "    </tr>\n",
       "    <tr>\n",
       "      <th>23</th>\n",
       "      <td>Albania</td>\n",
       "      <td>2007</td>\n",
       "      <td>3600523</td>\n",
       "      <td>Europe</td>\n",
       "      <td>76.423</td>\n",
       "      <td>5937.029526</td>\n",
       "      <td>blue</td>\n",
       "    </tr>\n",
       "    <tr>\n",
       "      <th>35</th>\n",
       "      <td>Algeria</td>\n",
       "      <td>2007</td>\n",
       "      <td>33333216</td>\n",
       "      <td>Africa</td>\n",
       "      <td>72.301</td>\n",
       "      <td>6223.367465</td>\n",
       "      <td>green</td>\n",
       "    </tr>\n",
       "    <tr>\n",
       "      <th>47</th>\n",
       "      <td>Angola</td>\n",
       "      <td>2007</td>\n",
       "      <td>12420476</td>\n",
       "      <td>Africa</td>\n",
       "      <td>42.731</td>\n",
       "      <td>4797.231267</td>\n",
       "      <td>green</td>\n",
       "    </tr>\n",
       "    <tr>\n",
       "      <th>59</th>\n",
       "      <td>Argentina</td>\n",
       "      <td>2007</td>\n",
       "      <td>40301927</td>\n",
       "      <td>Americas</td>\n",
       "      <td>75.320</td>\n",
       "      <td>12779.379640</td>\n",
       "      <td>yellow</td>\n",
       "    </tr>\n",
       "  </tbody>\n",
       "</table>\n",
       "</div>"
      ],
      "text/plain": [
       "        country  year  population continent  life_exp       gdp_cap   color\n",
       "11  Afghanistan  2007    31889923      Asia    43.828    974.580338     red\n",
       "23      Albania  2007     3600523    Europe    76.423   5937.029526    blue\n",
       "35      Algeria  2007    33333216    Africa    72.301   6223.367465   green\n",
       "47       Angola  2007    12420476    Africa    42.731   4797.231267   green\n",
       "59    Argentina  2007    40301927  Americas    75.320  12779.379640  yellow"
      ]
     },
     "execution_count": 6,
     "metadata": {},
     "output_type": "execute_result"
    }
   ],
   "source": [
    "# adding color column based on continent\n",
    "gapminder['color'] = gapminder['continent'].map({'Asia': 'red', \n",
    "                                                 'Europe': 'blue', \n",
    "                                                 'Africa': 'green', \n",
    "                                                 'Americas': 'yellow', \n",
    "                                                 'Oceania': 'black'})\n",
    "\n",
    "gapminder.head()"
   ]
  },
  {
   "cell_type": "code",
   "execution_count": 7,
   "id": "2d7294e1",
   "metadata": {
    "execution": {
     "iopub.execute_input": "2023-11-30T04:36:27.476139Z",
     "iopub.status.busy": "2023-11-30T04:36:27.475339Z",
     "iopub.status.idle": "2023-11-30T04:36:27.487935Z",
     "shell.execute_reply": "2023-11-30T04:36:27.486293Z"
    },
    "papermill": {
     "duration": 0.023019,
     "end_time": "2023-11-30T04:36:27.490687",
     "exception": false,
     "start_time": "2023-11-30T04:36:27.467668",
     "status": "completed"
    },
    "tags": []
   },
   "outputs": [
    {
     "name": "stdout",
     "output_type": "stream",
     "text": [
      "Highest size population country:\n",
      "299    China\n",
      "Name: country, dtype: object\n",
      "299    4959.114854\n",
      "Name: gdp_cap, dtype: float64\n",
      "299    72.961\n",
      "Name: life_exp, dtype: float64\n"
     ]
    }
   ],
   "source": [
    "# country of the highest population\n",
    "highest = np.max(gapminder.iloc[:, 2])\n",
    "country_highest = gapminder.loc[gapminder[\"population\"] == highest, \"country\"]\n",
    "gdp_highest = gapminder.loc[gapminder[\"population\"] == highest, \"gdp_cap\"]\n",
    "life_highest = gapminder.loc[gapminder[\"population\"] == highest, \"life_exp\"]\n",
    "print(\"Highest size population country:\")\n",
    "print(country_highest)\n",
    "print(gdp_highest)\n",
    "print(life_highest)"
   ]
  },
  {
   "cell_type": "code",
   "execution_count": 8,
   "id": "921a6b3e",
   "metadata": {
    "execution": {
     "iopub.execute_input": "2023-11-30T04:36:27.504420Z",
     "iopub.status.busy": "2023-11-30T04:36:27.503626Z",
     "iopub.status.idle": "2023-11-30T04:36:27.962039Z",
     "shell.execute_reply": "2023-11-30T04:36:27.960677Z"
    },
    "papermill": {
     "duration": 0.468563,
     "end_time": "2023-11-30T04:36:27.965092",
     "exception": false,
     "start_time": "2023-11-30T04:36:27.496529",
     "status": "completed"
    },
    "tags": []
   },
   "outputs": [
    {
     "data": {
      "image/png": "[encoded data removed]",
      "text/plain": [
       "<Figure size 640x480 with 1 Axes>"
      ]
     },
     "metadata": {},
     "output_type": "display_data"
    }
   ],
   "source": [
    "# Data Visualization\n",
    "\n",
    "# correlation two data\n",
    "x = gapminder.iloc[:, 5] # gdp_cap\n",
    "y = gapminder.iloc[:, 4] # life_exp\n",
    "\n",
    "# color bubble chart\n",
    "color = gapminder.iloc[:, -1] # color by continent\n",
    "\n",
    "# create bubble size based on population size\n",
    "size = gapminder.iloc[:, 2] / 500000\n",
    "\n",
    "# opacity of bubble\n",
    "alpha = 0.7\n",
    "\n",
    "plt.scatter(x, y, c=color, s=size, alpha=alpha)\n",
    "\n",
    "# scale to logarithmic\n",
    "plt.xscale(\"log\")\n",
    "\n",
    "# adding story\n",
    "plt.xlabel(\"GDP per Capita [USD]\")\n",
    "plt.ylabel(\"Life Expectancy [years]\")\n",
    "plt.title(\"World Development 2007\")\n",
    "plt.xticks([1000, 10000, 100000], [\"1k\", \"10k\", \"100k\"])\n",
    "\n",
    "plt.grid(True)\n",
    "\n",
    "# adding some text\n",
    "plt.text(3900, 79, \"China\")\n",
    "\n",
    "plt.show()"
   ]
  },
  {
   "cell_type": "markdown",
   "id": "b8578f21",
   "metadata": {
    "papermill": {
     "duration": 0.006698,
     "end_time": "2023-11-30T04:36:27.978908",
     "exception": false,
     "start_time": "2023-11-30T04:36:27.972210",
     "status": "completed"
    },
    "tags": []
   },
   "source": [
    "### Summary\n",
    "\n",
    "1. Countries with a greater GDP per person generally experience longer life expectancies.\n",
    "\n",
    "2. Countries in Africa typically exhibit lower GDP per capita and shorter life expectancies.\n",
    "\n",
    "3. China has the largest population among all countries.\n"
   ]
  }
 ],
 "metadata": {
  "kaggle": {
   "accelerator": "none",
   "dataSources": [
    {
     "datasetId": 373567,
     "sourceId": 758426,
     "sourceType": "datasetVersion"
    }
   ],
   "dockerImageVersionId": 30587,
   "isGpuEnabled": false,
   "isInternetEnabled": false,
   "language": "python",
   "sourceType": "notebook"
  },
  "kernelspec": {
   "display_name": "Python 3",
   "language": "python",
   "name": "python3"
  },
  "language_info": {
   "codemirror_mode": {
    "name": "ipython",
    "version": 3
   },
   "file_extension": ".py",
   "mimetype": "text/x-python",
   "name": "python",
   "nbconvert_exporter": "python",
   "pygments_lexer": "ipython3",
   "version": "3.10.12"
  },
  "papermill": {
   "default_parameters": {},
   "duration": 5.927116,
   "end_time": "2023-11-30T04:36:28.711026",
   "environment_variables": {},
   "exception": null,
   "input_path": "__notebook__.ipynb",
   "output_path": "__notebook__.ipynb",
   "parameters": {},
   "start_time": "2023-11-30T04:36:22.783910",
   "version": "2.4.0"
  }
 },
 "nbformat": 4,
 "nbformat_minor": 5
}
